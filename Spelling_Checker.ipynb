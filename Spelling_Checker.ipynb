{
  "nbformat": 4,
  "nbformat_minor": 0,
  "metadata": {
    "colab": {
      "name": "Spelling Checker.ipynb",
      "provenance": []
    },
    "kernelspec": {
      "name": "python3",
      "display_name": "Python 3"
    }
  },
  "cells": [
    {
      "cell_type": "markdown",
      "metadata": {
        "id": "oBvom7d2j1p8",
        "colab_type": "text"
      },
      "source": [
        "---\n",
        "# Spelling Checker\n",
        "\n",
        "---\n",
        "\n"
      ]
    },
    {
      "cell_type": "markdown",
      "metadata": {
        "id": "NDCMEs3nkIgG",
        "colab_type": "text"
      },
      "source": [
        "***Motivation:*** Checking the spelling of words in the text is the most basic requirement in any text processing/analysis task. Thus, developing a simple language model that checks the correctness of the word's spelling and suggests possible alternatives is a good starting point."
      ]
    },
    {
      "cell_type": "code",
      "metadata": {
        "id": "jhD_dT6oiPfr",
        "colab_type": "code",
        "colab": {}
      },
      "source": [
        "import numpy as np\n",
        "import re #for regular expression\n",
        "from collections import Counter\n",
        "\n",
        "import matplotlib.pyplot as plt\n",
        "%matplotlib inline "
      ],
      "execution_count": 0,
      "outputs": []
    },
    {
      "cell_type": "markdown",
      "metadata": {
        "id": "mrJdRmR2HKKn",
        "colab_type": "text"
      },
      "source": [
        "### Language Model P(c)\n",
        "---\n",
        "In a given text, we can find the probability of occurence of each word. \n",
        "\n",
        "Formally, P(c) gives the probability of word c appearing in the text."
      ]
    },
    {
      "cell_type": "code",
      "metadata": {
        "id": "BeQOpGn_lVu9",
        "colab_type": "code",
        "colab": {}
      },
      "source": [
        "def tokens(text): \n",
        "  return re.findall(r'\\w+', text.lower())\n",
        "\n",
        "def p(word, word_count):\n",
        "  total_words = sum(word_count.values()) \n",
        "  return word_count[word] / total_words"
      ],
      "execution_count": 0,
      "outputs": []
    },
    {
      "cell_type": "markdown",
      "metadata": {
        "id": "sLwX_08BJoMY",
        "colab_type": "text"
      },
      "source": [
        "After reading the file, we need to extract the words while ignoring punctuations, thus we make use of regular expression. The regex '\\w+' extracts alphanumeric as well as underscore strings."
      ]
    },
    {
      "cell_type": "code",
      "metadata": {
        "id": "estEwdG5GuwP",
        "colab_type": "code",
        "colab": {
          "base_uri": "https://localhost:8080/",
          "height": 32
        },
        "outputId": "4bbf25db-6ef8-4472-8fb3-475feae363d4"
      },
      "source": [
        "words = Counter(tokens(open('sample.txt').read()))\n",
        "print(\"There are a total of \", sum(words.values()), ' words out of which ', len(words),\\\n",
        "      ' are unique words.')"
      ],
      "execution_count": 7,
      "outputs": [
        {
          "output_type": "stream",
          "text": [
            "There are a total of  1115585  words out of which  32198  are unique words.\n"
          ],
          "name": "stdout"
        }
      ]
    },
    {
      "cell_type": "code",
      "metadata": {
        "id": "qFHYcFG3Lc15",
        "colab_type": "code",
        "colab": {
          "base_uri": "https://localhost:8080/",
          "height": 263
        },
        "outputId": "6daf40e3-6225-4a62-f783-5a45b06c0d30"
      },
      "source": [
        "labels, values = zip(*words.most_common(10))\n",
        "\n",
        "indexes = np.arange(len(labels))\n",
        "\n",
        "plt.bar(indexes, values,)\n",
        "plt.xticks(indexes, labels)\n",
        "plt.show()"
      ],
      "execution_count": 17,
      "outputs": [
        {
          "output_type": "display_data",
          "data": {
            "image/png": "[encoded data removed]",
            "text/plain": [
              "<Figure size 432x288 with 1 Axes>"
            ]
          },
          "metadata": {
            "tags": [],
            "needs_background": "light"
          }
        }
      ]
    },
    {
      "cell_type": "markdown",
      "metadata": {
        "id": "Dcu-Ln9XOEci",
        "colab_type": "text"
      },
      "source": [
        "The most commmon word is 'the' appearing ~ 80k times."
      ]
    },
    {
      "cell_type": "markdown",
      "metadata": {
        "id": "smD-wSY-OPeL",
        "colab_type": "text"
      },
      "source": [
        "### Candidate Model \n",
        "---\n",
        "Misspelled words often look similar to the correct word with a few errors such as missed characters, extra characters etc. The objective is to find the most likely spelling correct of a word w. Thus, we need to find correction c out of all candidate corrections such that it mazimizes the probability that c is the correction.\n",
        "\n",
        "These candidates are generated using the distance measure, edit distance to model the different type of spelling errors. Here, we use **simple edit** which deletes, transposes, replaces and insrts to generate candidate set."
      ]
    },
    {
      "cell_type": "code",
      "metadata": {
        "id": "g6LxzZM_YO2N",
        "colab_type": "code",
        "colab": {}
      },
      "source": [
        "def simpleEdit(word):\n",
        "    letters    = 'abcdefghijklmnopqrstuvwxyz'\n",
        "    splits     = [(word[:i], word[i:]) for i in range(len(word) + 1)]\n",
        "    deletes    = [L + R[1:] for L, R in splits if R]\n",
        "    transposes = [L + R[1] + R[0] + R[2:] for L, R in splits if len(R)>1]\n",
        "    replaces   = [L + c + R[1:] for L, R in splits if R for c in letters]\n",
        "    inserts    = [L + c + R for L, R in splits for c in letters]\n",
        "    return set(deletes + transposes + replaces + inserts)"
      ],
      "execution_count": 0,
      "outputs": []
    },
    {
      "cell_type": "markdown",
      "metadata": {
        "id": "WiQbiZlQZBDy",
        "colab_type": "text"
      },
      "source": [
        "The candidate set generated is usually very large as for each word there are 54n + 25 candidates, where n is the length of the word. There might be duplicates.\n",
        "\n",
        "For example, when w = 'doble', n = 4, thus, the upperbound on size of set is 295."
      ]
    },
    {
      "cell_type": "code",
      "metadata": {
        "id": "hrR8g-zjZZ1c",
        "colab_type": "code",
        "colab": {
          "base_uri": "https://localhost:8080/",
          "height": 32
        },
        "outputId": "107f98dc-ef63-4a7f-c216-39535cc1e640"
      },
      "source": [
        "print(\"The length of the candidate set\", len(simpleEdit('doble')))"
      ],
      "execution_count": 26,
      "outputs": [
        {
          "output_type": "stream",
          "text": [
            "The length of the candidate set 286\n"
          ],
          "name": "stdout"
        }
      ]
    },
    {
      "cell_type": "markdown",
      "metadata": {
        "id": "Gd8dkAT8ZZR-",
        "colab_type": "text"
      },
      "source": [
        "Now, a lot of the words generated in the candidate set won't be present in our dictionary, thus we can eliminate those to reduce the size of our candidate set."
      ]
    },
    {
      "cell_type": "code",
      "metadata": {
        "id": "AIrl5tpWaWhM",
        "colab_type": "code",
        "colab": {
          "base_uri": "https://localhost:8080/",
          "height": 32
        },
        "outputId": "cf008f0d-0c76-4361-a5b5-a7dd847ca6d9"
      },
      "source": [
        "def known(words_list):\n",
        "  return(set(w for w in words_list if w in words ))\n",
        "\n",
        "known((simpleEdit('doble')))"
      ],
      "execution_count": 39,
      "outputs": [
        {
          "output_type": "execute_result",
          "data": {
            "text/plain": [
              "{'dole', 'double', 'doyle', 'noble'}"
            ]
          },
          "metadata": {
            "tags": []
          },
          "execution_count": 39
        }
      ]
    },
    {
      "cell_type": "markdown",
      "metadata": {
        "id": "5sxEN5ima04s",
        "colab_type": "text"
      },
      "source": [
        "In the primary generation of candidate, we used 1 distance difference. Now, lets increase the number of edits to **two simple edit**."
      ]
    },
    {
      "cell_type": "code",
      "metadata": {
        "id": "1v0AL6e1bBjO",
        "colab_type": "code",
        "colab": {}
      },
      "source": [
        "def twoEdits(word):\n",
        "  return set([e2 for e1 in simpleEdit(word) for e2 in simpleEdit(e1)])"
      ],
      "execution_count": 0,
      "outputs": []
    },
    {
      "cell_type": "markdown",
      "metadata": {
        "id": "NYZhYU5PbQkY",
        "colab_type": "text"
      },
      "source": [
        "The length of this candidate set will be even larger but we will again use only those words which exist in our dictionary."
      ]
    },
    {
      "cell_type": "code",
      "metadata": {
        "id": "f-WQAtOTbYHN",
        "colab_type": "code",
        "colab": {
          "base_uri": "https://localhost:8080/",
          "height": 741
        },
        "outputId": "90a7b7ae-4000-48b4-9a2a-0017bf70a89d"
      },
      "source": [
        "print(\"The length of the candidate set\", len(twoEdits('doble')))\n",
        "known(twoEdits('doble'))"
      ],
      "execution_count": 42,
      "outputs": [
        {
          "output_type": "stream",
          "text": [
            "The length of the candidate set 36860\n"
          ],
          "name": "stdout"
        },
        {
          "output_type": "execute_result",
          "data": {
            "text/plain": [
              "{'able',\n",
              " 'amble',\n",
              " 'bible',\n",
              " 'cable',\n",
              " 'dale',\n",
              " 'diable',\n",
              " 'dobroe',\n",
              " 'dodge',\n",
              " 'doe',\n",
              " 'dole',\n",
              " 'doled',\n",
              " 'doles',\n",
              " 'doll',\n",
              " 'dolls',\n",
              " 'dome',\n",
              " 'done',\n",
              " 'donne',\n",
              " 'dose',\n",
              " 'double',\n",
              " 'doubled',\n",
              " 'doubles',\n",
              " 'doubly',\n",
              " 'doute',\n",
              " 'dove',\n",
              " 'doyle',\n",
              " 'doze',\n",
              " 'fable',\n",
              " 'gobble',\n",
              " 'hole',\n",
              " 'mobile',\n",
              " 'mole',\n",
              " 'molle',\n",
              " 'noble',\n",
              " 'nobler',\n",
              " 'nobles',\n",
              " 'ole',\n",
              " 'pole',\n",
              " 'robe',\n",
              " 'role',\n",
              " 'ruble',\n",
              " 'sable',\n",
              " 'sole',\n",
              " 'table'}"
            ]
          },
          "metadata": {
            "tags": []
          },
          "execution_count": 42
        }
      ]
    },
    {
      "cell_type": "markdown",
      "metadata": {
        "id": "HTdvzFikcFN1",
        "colab_type": "text"
      },
      "source": [
        "### Error Model P(w|c)\n",
        "---"
      ]
    },
    {
      "cell_type": "markdown",
      "metadata": {
        "id": "DdkdGmkUfK_i",
        "colab_type": "text"
      },
      "source": [
        "The error model states that smaller the edit distance, smaller the error. all known words with edit distance 1 are more probable than the those which are 2 edit distance away. However the highest priority is given to known word with 0 edit distance."
      ]
    },
    {
      "cell_type": "code",
      "metadata": {
        "id": "Mk1J75_IdbIE",
        "colab_type": "code",
        "colab": {}
      },
      "source": [
        "def correct(word): \n",
        "  candidates = known([word]) or known(simpleEdit(word)) or known(twoEdits(word)) or [word]\n",
        "  return max(candidates, key=words.get)"
      ],
      "execution_count": 0,
      "outputs": []
    },
    {
      "cell_type": "markdown",
      "metadata": {
        "id": "BILfP4Jafo9W",
        "colab_type": "text"
      },
      "source": [
        "### Evaluation\n",
        "\n",
        "---"
      ]
    },
    {
      "cell_type": "code",
      "metadata": {
        "id": "2FUohQrtgdRf",
        "colab_type": "code",
        "colab": {
          "base_uri": "https://localhost:8080/",
          "height": 148
        },
        "outputId": "5cd3895f-9476-4b69-b53e-95ebbf86a6d9"
      },
      "source": [
        "list(map(correct, tokens('Speling errurs in somethink. Whutever; unusuel misteakes everyware?')))"
      ],
      "execution_count": 55,
      "outputs": [
        {
          "output_type": "execute_result",
          "data": {
            "text/plain": [
              "['spelling',\n",
              " 'errors',\n",
              " 'in',\n",
              " 'something',\n",
              " 'whatever',\n",
              " 'unusual',\n",
              " 'mistakes',\n",
              " 'everywhere']"
            ]
          },
          "metadata": {
            "tags": []
          },
          "execution_count": 55
        }
      ]
    },
    {
      "cell_type": "markdown",
      "metadata": {
        "id": "l-BiJQ2Qnx5j",
        "colab_type": "text"
      },
      "source": [
        "We evaluate the performance of our model against a spelling error corpus. "
      ]
    },
    {
      "cell_type": "code",
      "metadata": {
        "id": "jTAU9gV9oqNM",
        "colab_type": "code",
        "colab": {
          "base_uri": "https://localhost:8080/",
          "height": 49
        },
        "outputId": "49c87fba-af38-4071-a514-3bb49373d0ce"
      },
      "source": [
        "def spelltest(tests, verbose=False):\n",
        "    import time\n",
        "    start = time.clock()\n",
        "    good, unknown = 0, 0\n",
        "    n = len(tests)\n",
        "    for right, wrong in tests:\n",
        "        w = correction(wrong)\n",
        "        good += (w == right)\n",
        "        if w != right:\n",
        "            unknown += (right not in words)\n",
        "            if verbose:\n",
        "                print('correction({}) => {} ({}); expected {} ({})'\\\n",
        "                      .format(wrong, w, words[w], right, words[right]))\n",
        "    dt = time.clock() - start\n",
        "    print('{:.0%} of {} correct ({:.0%} unknown) at {:.0f} words per second '\\\n",
        "          .format(good / n, n, unknown / n, n / dt))\n",
        "    \n",
        "def Testset(lines):\n",
        "    return [(right, wrong)\n",
        "            for (right, wrongs) in (line.split(':') for line in lines)\n",
        "            for wrong in wrongs.split()]\n",
        "\n",
        "spelltest(Testset(open('test1.txt'))) # Development set\n",
        "spelltest(Testset(open('test2.txt'))) # Final test set\n"
      ],
      "execution_count": 58,
      "outputs": [
        {
          "output_type": "stream",
          "text": [
            "75% of 270 correct at 40 words per second\n",
            "69% of 400 correct at 32 words per second\n"
          ],
          "name": "stdout"
        }
      ]
    }
  ]
}